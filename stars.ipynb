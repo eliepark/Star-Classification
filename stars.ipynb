{
 "cells": [
  {
   "cell_type": "code",
   "execution_count": 1,
   "id": "a7e91480-a624-4e28-82b6-6a58bb00d9a7",
   "metadata": {},
   "outputs": [],
   "source": [
    "import pandas as pd\n",
    "import numpy as np\n",
    "import matplotlib.pyplot as plt\n",
    "import seaborn as sns\n",
    "from IPython import display"
   ]
  },
  {
   "cell_type": "markdown",
   "id": "ae734b20-640b-4693-9a18-14732b9c966c",
   "metadata": {},
   "source": [
    "This star classification dataset was retrieved from Kaggle: \n",
    "https://www.kaggle.com/deepu1109/star-dataset"
   ]
  },
  {
   "cell_type": "code",
   "execution_count": 2,
   "id": "9515a7f0-e9b1-47b2-8969-85b9493fe3c9",
   "metadata": {},
   "outputs": [],
   "source": [
    "orig_df=pd.read_csv('6_class.csv')\n",
    "df=orig_df.copy()"
   ]
  },
  {
   "cell_type": "code",
   "execution_count": 3,
   "id": "cacf1e36-3b5b-4146-9f8b-7c2142cdeb17",
   "metadata": {},
   "outputs": [
    {
     "data": {
      "text/html": [
       "<div>\n",
       "<style scoped>\n",
       "    .dataframe tbody tr th:only-of-type {\n",
       "        vertical-align: middle;\n",
       "    }\n",
       "\n",
       "    .dataframe tbody tr th {\n",
       "        vertical-align: top;\n",
       "    }\n",
       "\n",
       "    .dataframe thead th {\n",
       "        text-align: right;\n",
       "    }\n",
       "</style>\n",
       "<table border=\"1\" class=\"dataframe\">\n",
       "  <thead>\n",
       "    <tr style=\"text-align: right;\">\n",
       "      <th></th>\n",
       "      <th>Temperature (K)</th>\n",
       "      <th>Luminosity(L/Lo)</th>\n",
       "      <th>Radius(R/Ro)</th>\n",
       "      <th>Absolute magnitude(Mv)</th>\n",
       "      <th>Star type</th>\n",
       "      <th>Star color</th>\n",
       "      <th>Spectral Class</th>\n",
       "    </tr>\n",
       "  </thead>\n",
       "  <tbody>\n",
       "    <tr>\n",
       "      <th>0</th>\n",
       "      <td>3068</td>\n",
       "      <td>0.002400</td>\n",
       "      <td>0.1700</td>\n",
       "      <td>16.12</td>\n",
       "      <td>0</td>\n",
       "      <td>Red</td>\n",
       "      <td>M</td>\n",
       "    </tr>\n",
       "    <tr>\n",
       "      <th>1</th>\n",
       "      <td>3042</td>\n",
       "      <td>0.000500</td>\n",
       "      <td>0.1542</td>\n",
       "      <td>16.60</td>\n",
       "      <td>0</td>\n",
       "      <td>Red</td>\n",
       "      <td>M</td>\n",
       "    </tr>\n",
       "    <tr>\n",
       "      <th>2</th>\n",
       "      <td>2600</td>\n",
       "      <td>0.000300</td>\n",
       "      <td>0.1020</td>\n",
       "      <td>18.70</td>\n",
       "      <td>0</td>\n",
       "      <td>Red</td>\n",
       "      <td>M</td>\n",
       "    </tr>\n",
       "    <tr>\n",
       "      <th>3</th>\n",
       "      <td>2800</td>\n",
       "      <td>0.000200</td>\n",
       "      <td>0.1600</td>\n",
       "      <td>16.65</td>\n",
       "      <td>0</td>\n",
       "      <td>Red</td>\n",
       "      <td>M</td>\n",
       "    </tr>\n",
       "    <tr>\n",
       "      <th>4</th>\n",
       "      <td>1939</td>\n",
       "      <td>0.000138</td>\n",
       "      <td>0.1030</td>\n",
       "      <td>20.06</td>\n",
       "      <td>0</td>\n",
       "      <td>Red</td>\n",
       "      <td>M</td>\n",
       "    </tr>\n",
       "  </tbody>\n",
       "</table>\n",
       "</div>"
      ],
      "text/plain": [
       "   Temperature (K)  Luminosity(L/Lo)  Radius(R/Ro)  Absolute magnitude(Mv)  \\\n",
       "0             3068          0.002400        0.1700                   16.12   \n",
       "1             3042          0.000500        0.1542                   16.60   \n",
       "2             2600          0.000300        0.1020                   18.70   \n",
       "3             2800          0.000200        0.1600                   16.65   \n",
       "4             1939          0.000138        0.1030                   20.06   \n",
       "\n",
       "   Star type Star color Spectral Class  \n",
       "0          0        Red              M  \n",
       "1          0        Red              M  \n",
       "2          0        Red              M  \n",
       "3          0        Red              M  \n",
       "4          0        Red              M  "
      ]
     },
     "execution_count": 3,
     "metadata": {},
     "output_type": "execute_result"
    }
   ],
   "source": [
    "df.head()"
   ]
  },
  {
   "cell_type": "code",
   "execution_count": 4,
   "id": "0399f1a1-7586-4ed7-ad4a-bd246a4cf499",
   "metadata": {},
   "outputs": [
    {
     "data": {
      "text/plain": [
       "5    40\n",
       "4    40\n",
       "3    40\n",
       "2    40\n",
       "1    40\n",
       "0    40\n",
       "Name: Star type, dtype: int64"
      ]
     },
     "execution_count": 4,
     "metadata": {},
     "output_type": "execute_result"
    }
   ],
   "source": [
    "df['Star type'].value_counts()"
   ]
  },
  {
   "cell_type": "code",
   "execution_count": 5,
   "id": "95aefc67-d467-4e06-b1e1-420886446c71",
   "metadata": {},
   "outputs": [],
   "source": [
    "labels=['Red Dwarf', 'Brown Dwarf', 'White Dwarf', 'Main Sequence','Super Giants', 'Hyper Giants']"
   ]
  },
  {
   "cell_type": "markdown",
   "id": "e326a9be-bfe1-4e6c-a727-501394bd6ad6",
   "metadata": {},
   "source": [
    "Our objective is to predict star type (0: Red Dwarf, 1: Brown Dwarf, 2: White Dwarf, 3: Main Sequence, 4: Super Giants, 5: Hyper Giants) based on temperature, luminosity, radius, absolute magnitude, star color, and spectral class.\n",
    "\n",
    "Red and brown dwarfs are small, old stars which have a very low fusion rate, which means they consume less fuel than most other stars. They are seen on the bottom of the main sequence track but are smaller in size, luminosity, and effective temperature from the rest of the main sequence stars. \n",
    "\n",
    "Main sequence stars are also 'dwarfs' because they are still considered to be smaller and fainter than many other stellar objects in the universe. About 90% of the stars in the universe, including the Sun, are considered main sequence stars because this stage is where stars spend most of their lives fusing hydrogen to helium. \n",
    "\n",
    "When these main sequence stars are depleted of hydrogen in their cores, they become larger in radius due to the expansion of the outer hydrogen shell surrounding the core as it begins nuclear fusion. Depending on how big their initial stellar masses are, they can become a super giant or a hyper giant which are massive stars which burn through more elements on the periodic table and have a higher effective temperature and luminosity. \n",
    "\n",
    "When stars less than 8 times the Sun's mass deplete all of their fuel for nuclear fusion, they become white dwarfs as they collapse onto themselves because they can't create enough thermal energy to counteract the gravitational energy. They then reach a very small radius the size of the Earth to experience electron degeneracy, exhibiting a peculiar property of extreme pressure where an increase in mass results in a decrease in radius. \n",
    "\n",
    "If these stars are massive enough, the gravitational collapse bounces back, causing the outer layers of the star to explode. They can either become a neutron star (a very dense star about the size of a city) or black hole after this Type II supernova explosion. A white dwarf can also steal mass from another stellar object to explode into a Type I supernova explosion. \n",
    "\n",
    "Here we use this balanced dataset to recreate a model that can predict the star types of unclassified stars based on their properties. If our model is good, we might be able to recreate an image similar to the Hertzsprung-Russell diagram.\n",
    "\n",
    "![image](https://chandra.harvard.edu/graphics/edu/formal/variable_stars/diagram.jpg)"
   ]
  },
  {
   "cell_type": "code",
   "execution_count": 6,
   "id": "127be2a2-c72c-448b-af93-ff81ce8d1ca6",
   "metadata": {},
   "outputs": [
    {
     "data": {
      "text/plain": [
       "(240, 7)"
      ]
     },
     "execution_count": 6,
     "metadata": {},
     "output_type": "execute_result"
    }
   ],
   "source": [
    "df.shape"
   ]
  },
  {
   "cell_type": "code",
   "execution_count": 7,
   "id": "c4d8af0f-2488-4909-9acd-13e269d786bd",
   "metadata": {
    "jp-MarkdownHeadingCollapsed": true,
    "tags": []
   },
   "outputs": [
    {
     "data": {
      "text/plain": [
       "False"
      ]
     },
     "execution_count": 7,
     "metadata": {},
     "output_type": "execute_result"
    }
   ],
   "source": [
    "df.isna().values.any()"
   ]
  },
  {
   "cell_type": "code",
   "execution_count": 8,
   "id": "3938b441-365a-4586-a6b2-dda56a7d5ef9",
   "metadata": {},
   "outputs": [
    {
     "data": {
      "text/plain": [
       "Temperature (K)             int64\n",
       "Luminosity(L/Lo)          float64\n",
       "Radius(R/Ro)              float64\n",
       "Absolute magnitude(Mv)    float64\n",
       "Star type                   int64\n",
       "Star color                 object\n",
       "Spectral Class             object\n",
       "dtype: object"
      ]
     },
     "execution_count": 8,
     "metadata": {},
     "output_type": "execute_result"
    }
   ],
   "source": [
    "df.dtypes"
   ]
  },
  {
   "cell_type": "code",
   "execution_count": 9,
   "id": "73fc87ac-f40e-4c99-82a1-07a98a56cccc",
   "metadata": {
    "tags": []
   },
   "outputs": [
    {
     "data": {
      "text/html": [
       "<div>\n",
       "<style scoped>\n",
       "    .dataframe tbody tr th:only-of-type {\n",
       "        vertical-align: middle;\n",
       "    }\n",
       "\n",
       "    .dataframe tbody tr th {\n",
       "        vertical-align: top;\n",
       "    }\n",
       "\n",
       "    .dataframe thead th {\n",
       "        text-align: right;\n",
       "    }\n",
       "</style>\n",
       "<table border=\"1\" class=\"dataframe\">\n",
       "  <thead>\n",
       "    <tr style=\"text-align: right;\">\n",
       "      <th></th>\n",
       "      <th>Temperature (K)</th>\n",
       "      <th>Luminosity(L/Lo)</th>\n",
       "      <th>Radius(R/Ro)</th>\n",
       "      <th>Absolute magnitude(Mv)</th>\n",
       "    </tr>\n",
       "  </thead>\n",
       "  <tbody>\n",
       "    <tr>\n",
       "      <th>count</th>\n",
       "      <td>240.000000</td>\n",
       "      <td>240.000000</td>\n",
       "      <td>240.000000</td>\n",
       "      <td>240.000000</td>\n",
       "    </tr>\n",
       "    <tr>\n",
       "      <th>mean</th>\n",
       "      <td>10497.462500</td>\n",
       "      <td>107188.361635</td>\n",
       "      <td>237.157781</td>\n",
       "      <td>4.382396</td>\n",
       "    </tr>\n",
       "    <tr>\n",
       "      <th>std</th>\n",
       "      <td>9552.425037</td>\n",
       "      <td>179432.244940</td>\n",
       "      <td>517.155763</td>\n",
       "      <td>10.532512</td>\n",
       "    </tr>\n",
       "    <tr>\n",
       "      <th>min</th>\n",
       "      <td>1939.000000</td>\n",
       "      <td>0.000080</td>\n",
       "      <td>0.008400</td>\n",
       "      <td>-11.920000</td>\n",
       "    </tr>\n",
       "    <tr>\n",
       "      <th>25%</th>\n",
       "      <td>3344.250000</td>\n",
       "      <td>0.000865</td>\n",
       "      <td>0.102750</td>\n",
       "      <td>-6.232500</td>\n",
       "    </tr>\n",
       "    <tr>\n",
       "      <th>50%</th>\n",
       "      <td>5776.000000</td>\n",
       "      <td>0.070500</td>\n",
       "      <td>0.762500</td>\n",
       "      <td>8.313000</td>\n",
       "    </tr>\n",
       "    <tr>\n",
       "      <th>75%</th>\n",
       "      <td>15055.500000</td>\n",
       "      <td>198050.000000</td>\n",
       "      <td>42.750000</td>\n",
       "      <td>13.697500</td>\n",
       "    </tr>\n",
       "    <tr>\n",
       "      <th>max</th>\n",
       "      <td>40000.000000</td>\n",
       "      <td>849420.000000</td>\n",
       "      <td>1948.500000</td>\n",
       "      <td>20.060000</td>\n",
       "    </tr>\n",
       "  </tbody>\n",
       "</table>\n",
       "</div>"
      ],
      "text/plain": [
       "       Temperature (K)  Luminosity(L/Lo)  Radius(R/Ro)  Absolute magnitude(Mv)\n",
       "count       240.000000        240.000000    240.000000              240.000000\n",
       "mean      10497.462500     107188.361635    237.157781                4.382396\n",
       "std        9552.425037     179432.244940    517.155763               10.532512\n",
       "min        1939.000000          0.000080      0.008400              -11.920000\n",
       "25%        3344.250000          0.000865      0.102750               -6.232500\n",
       "50%        5776.000000          0.070500      0.762500                8.313000\n",
       "75%       15055.500000     198050.000000     42.750000               13.697500\n",
       "max       40000.000000     849420.000000   1948.500000               20.060000"
      ]
     },
     "execution_count": 9,
     "metadata": {},
     "output_type": "execute_result"
    }
   ],
   "source": [
    "df.drop('Star type',axis=1).describe()"
   ]
  },
  {
   "cell_type": "code",
   "execution_count": 10,
   "id": "eb1d43e2-8d71-40ef-8ec7-f16a1d97ba54",
   "metadata": {},
   "outputs": [
    {
     "data": {
      "text/html": [
       "<div>\n",
       "<style scoped>\n",
       "    .dataframe tbody tr th:only-of-type {\n",
       "        vertical-align: middle;\n",
       "    }\n",
       "\n",
       "    .dataframe tbody tr th {\n",
       "        vertical-align: top;\n",
       "    }\n",
       "\n",
       "    .dataframe thead th {\n",
       "        text-align: right;\n",
       "    }\n",
       "</style>\n",
       "<table border=\"1\" class=\"dataframe\">\n",
       "  <thead>\n",
       "    <tr style=\"text-align: right;\">\n",
       "      <th></th>\n",
       "      <th>count</th>\n",
       "      <th>mean</th>\n",
       "      <th>std</th>\n",
       "      <th>min</th>\n",
       "      <th>25%</th>\n",
       "      <th>50%</th>\n",
       "      <th>75%</th>\n",
       "      <th>max</th>\n",
       "    </tr>\n",
       "    <tr>\n",
       "      <th>Star type</th>\n",
       "      <th></th>\n",
       "      <th></th>\n",
       "      <th></th>\n",
       "      <th></th>\n",
       "      <th></th>\n",
       "      <th></th>\n",
       "      <th></th>\n",
       "      <th></th>\n",
       "    </tr>\n",
       "  </thead>\n",
       "  <tbody>\n",
       "    <tr>\n",
       "      <th>0</th>\n",
       "      <td>40.0</td>\n",
       "      <td>0.000693</td>\n",
       "      <td>0.000888</td>\n",
       "      <td>0.000138</td>\n",
       "      <td>0.000315</td>\n",
       "      <td>0.00052</td>\n",
       "      <td>0.000737</td>\n",
       "      <td>0.0056</td>\n",
       "    </tr>\n",
       "    <tr>\n",
       "      <th>1</th>\n",
       "      <td>40.0</td>\n",
       "      <td>0.005406</td>\n",
       "      <td>0.007330</td>\n",
       "      <td>0.000190</td>\n",
       "      <td>0.001315</td>\n",
       "      <td>0.00315</td>\n",
       "      <td>0.006675</td>\n",
       "      <td>0.0390</td>\n",
       "    </tr>\n",
       "    <tr>\n",
       "      <th>2</th>\n",
       "      <td>40.0</td>\n",
       "      <td>0.002434</td>\n",
       "      <td>0.008912</td>\n",
       "      <td>0.000080</td>\n",
       "      <td>0.000287</td>\n",
       "      <td>0.00076</td>\n",
       "      <td>0.001227</td>\n",
       "      <td>0.0560</td>\n",
       "    </tr>\n",
       "    <tr>\n",
       "      <th>3</th>\n",
       "      <td>40.0</td>\n",
       "      <td>32067.386275</td>\n",
       "      <td>69351.195858</td>\n",
       "      <td>0.085000</td>\n",
       "      <td>6.297500</td>\n",
       "      <td>738.50000</td>\n",
       "      <td>12962.500000</td>\n",
       "      <td>204000.0000</td>\n",
       "    </tr>\n",
       "    <tr>\n",
       "      <th>4</th>\n",
       "      <td>40.0</td>\n",
       "      <td>301816.250000</td>\n",
       "      <td>175756.378119</td>\n",
       "      <td>112000.000000</td>\n",
       "      <td>197250.000000</td>\n",
       "      <td>242145.00000</td>\n",
       "      <td>344160.000000</td>\n",
       "      <td>813000.0000</td>\n",
       "    </tr>\n",
       "    <tr>\n",
       "      <th>5</th>\n",
       "      <td>40.0</td>\n",
       "      <td>309246.525000</td>\n",
       "      <td>199343.999427</td>\n",
       "      <td>74000.000000</td>\n",
       "      <td>173000.000000</td>\n",
       "      <td>266500.00000</td>\n",
       "      <td>365957.500000</td>\n",
       "      <td>849420.0000</td>\n",
       "    </tr>\n",
       "  </tbody>\n",
       "</table>\n",
       "</div>"
      ],
      "text/plain": [
       "           count           mean            std            min            25%  \\\n",
       "Star type                                                                      \n",
       "0           40.0       0.000693       0.000888       0.000138       0.000315   \n",
       "1           40.0       0.005406       0.007330       0.000190       0.001315   \n",
       "2           40.0       0.002434       0.008912       0.000080       0.000287   \n",
       "3           40.0   32067.386275   69351.195858       0.085000       6.297500   \n",
       "4           40.0  301816.250000  175756.378119  112000.000000  197250.000000   \n",
       "5           40.0  309246.525000  199343.999427   74000.000000  173000.000000   \n",
       "\n",
       "                    50%            75%          max  \n",
       "Star type                                            \n",
       "0               0.00052       0.000737       0.0056  \n",
       "1               0.00315       0.006675       0.0390  \n",
       "2               0.00076       0.001227       0.0560  \n",
       "3             738.50000   12962.500000  204000.0000  \n",
       "4          242145.00000  344160.000000  813000.0000  \n",
       "5          266500.00000  365957.500000  849420.0000  "
      ]
     },
     "execution_count": 10,
     "metadata": {},
     "output_type": "execute_result"
    }
   ],
   "source": [
    "df.groupby('Star type')['Luminosity(L/Lo)'].describe()"
   ]
  },
  {
   "cell_type": "code",
   "execution_count": 11,
   "id": "575c0235-4179-4d34-9c62-c07ff5e0d7af",
   "metadata": {},
   "outputs": [
    {
     "data": {
      "image/png": "[encoded data removed]",
      "text/plain": [
       "<Figure size 720x504 with 1 Axes>"
      ]
     },
     "metadata": {
      "needs_background": "light"
     },
     "output_type": "display_data"
    }
   ],
   "source": [
    "plt.subplots(figsize=(10,7))\n",
    "lum=sns.boxplot(x='Star type', y='Luminosity(L/Lo)', data=df, showmeans=True)\n",
    "lum.set(yscale='log')\n",
    "lum.set_xticklabels(labels)\n",
    "lum.set_title('Luminosity by Star Type');"
   ]
  },
  {
   "cell_type": "markdown",
   "id": "91d7fb46-73ab-4de0-9171-f9e2cedbd92e",
   "metadata": {},
   "source": [
    "Luminosity refers to the amount of energy a blackbody emits per second. Here, luminosity is divided by the average luminosity of the Sun, $L_o = 3.828 \\cdot 10^{26}W$. Luminosity should range between 10e-4 and 10e6. \n",
    "\n",
    "Luminosity is proportional to the fourth power of temperature (r=0.39) and the second power of stellar radius by the Stefan-Boltzmann Law of a star's luminosity: $L=4 \\pi R^2 \\sigma T^4$. \n",
    "\n",
    "Red dwarfs, brown dwarfs, and white dwarfs have a smaller nuclear fusion rate and therefore emit less energy per second than the other star types. White dwarfs particularly do have a high effective temperature, but its radius is too small for the luminosity to be significant."
   ]
  },
  {
   "cell_type": "code",
   "execution_count": 12,
   "id": "a8ddfdcf-45d6-4e26-8bbb-51ad69dc6b3d",
   "metadata": {},
   "outputs": [
    {
     "data": {
      "text/html": [
       "<div>\n",
       "<style scoped>\n",
       "    .dataframe tbody tr th:only-of-type {\n",
       "        vertical-align: middle;\n",
       "    }\n",
       "\n",
       "    .dataframe tbody tr th {\n",
       "        vertical-align: top;\n",
       "    }\n",
       "\n",
       "    .dataframe thead th {\n",
       "        text-align: right;\n",
       "    }\n",
       "</style>\n",
       "<table border=\"1\" class=\"dataframe\">\n",
       "  <thead>\n",
       "    <tr style=\"text-align: right;\">\n",
       "      <th></th>\n",
       "      <th>count</th>\n",
       "      <th>mean</th>\n",
       "      <th>std</th>\n",
       "      <th>min</th>\n",
       "      <th>25%</th>\n",
       "      <th>50%</th>\n",
       "      <th>75%</th>\n",
       "      <th>max</th>\n",
       "    </tr>\n",
       "    <tr>\n",
       "      <th>Star type</th>\n",
       "      <th></th>\n",
       "      <th></th>\n",
       "      <th></th>\n",
       "      <th></th>\n",
       "      <th></th>\n",
       "      <th></th>\n",
       "      <th></th>\n",
       "      <th></th>\n",
       "    </tr>\n",
       "  </thead>\n",
       "  <tbody>\n",
       "    <tr>\n",
       "      <th>0</th>\n",
       "      <td>40.0</td>\n",
       "      <td>17.563500</td>\n",
       "      <td>1.213111</td>\n",
       "      <td>16.05</td>\n",
       "      <td>16.7000</td>\n",
       "      <td>17.145</td>\n",
       "      <td>18.35250</td>\n",
       "      <td>20.060</td>\n",
       "    </tr>\n",
       "    <tr>\n",
       "      <th>1</th>\n",
       "      <td>40.0</td>\n",
       "      <td>12.539975</td>\n",
       "      <td>1.422816</td>\n",
       "      <td>10.12</td>\n",
       "      <td>11.3675</td>\n",
       "      <td>12.605</td>\n",
       "      <td>13.56425</td>\n",
       "      <td>14.940</td>\n",
       "    </tr>\n",
       "    <tr>\n",
       "      <th>2</th>\n",
       "      <td>40.0</td>\n",
       "      <td>12.582500</td>\n",
       "      <td>1.278386</td>\n",
       "      <td>10.18</td>\n",
       "      <td>11.5950</td>\n",
       "      <td>12.340</td>\n",
       "      <td>13.83000</td>\n",
       "      <td>14.870</td>\n",
       "    </tr>\n",
       "    <tr>\n",
       "      <th>3</th>\n",
       "      <td>40.0</td>\n",
       "      <td>-0.367425</td>\n",
       "      <td>3.613592</td>\n",
       "      <td>-4.70</td>\n",
       "      <td>-3.7025</td>\n",
       "      <td>-1.180</td>\n",
       "      <td>2.42500</td>\n",
       "      <td>6.506</td>\n",
       "    </tr>\n",
       "    <tr>\n",
       "      <th>4</th>\n",
       "      <td>40.0</td>\n",
       "      <td>-6.369925</td>\n",
       "      <td>0.560051</td>\n",
       "      <td>-7.45</td>\n",
       "      <td>-6.8075</td>\n",
       "      <td>-6.235</td>\n",
       "      <td>-5.96125</td>\n",
       "      <td>-5.240</td>\n",
       "    </tr>\n",
       "    <tr>\n",
       "      <th>5</th>\n",
       "      <td>40.0</td>\n",
       "      <td>-9.654250</td>\n",
       "      <td>1.453605</td>\n",
       "      <td>-11.92</td>\n",
       "      <td>-10.8750</td>\n",
       "      <td>-9.915</td>\n",
       "      <td>-8.14750</td>\n",
       "      <td>-7.580</td>\n",
       "    </tr>\n",
       "  </tbody>\n",
       "</table>\n",
       "</div>"
      ],
      "text/plain": [
       "           count       mean       std    min      25%     50%       75%  \\\n",
       "Star type                                                                 \n",
       "0           40.0  17.563500  1.213111  16.05  16.7000  17.145  18.35250   \n",
       "1           40.0  12.539975  1.422816  10.12  11.3675  12.605  13.56425   \n",
       "2           40.0  12.582500  1.278386  10.18  11.5950  12.340  13.83000   \n",
       "3           40.0  -0.367425  3.613592  -4.70  -3.7025  -1.180   2.42500   \n",
       "4           40.0  -6.369925  0.560051  -7.45  -6.8075  -6.235  -5.96125   \n",
       "5           40.0  -9.654250  1.453605 -11.92 -10.8750  -9.915  -8.14750   \n",
       "\n",
       "              max  \n",
       "Star type          \n",
       "0          20.060  \n",
       "1          14.940  \n",
       "2          14.870  \n",
       "3           6.506  \n",
       "4          -5.240  \n",
       "5          -7.580  "
      ]
     },
     "execution_count": 12,
     "metadata": {},
     "output_type": "execute_result"
    }
   ],
   "source": [
    "df.groupby('Star type')['Absolute magnitude(Mv)'].describe()"
   ]
  },
  {
   "cell_type": "code",
   "execution_count": 13,
   "id": "6f8bda18-ccd8-4070-90ed-6a745172815e",
   "metadata": {},
   "outputs": [
    {
     "data": {
      "image/png": "[encoded data removed]",
      "text/plain": [
       "<Figure size 720x504 with 1 Axes>"
      ]
     },
     "metadata": {
      "needs_background": "light"
     },
     "output_type": "display_data"
    }
   ],
   "source": [
    "plt.subplots(figsize=(10,7))\n",
    "am=sns.boxplot(x='Star type', y='Absolute magnitude(Mv)', data=df, showmeans=True)\n",
    "am.set_xticklabels(labels)\n",
    "am.set_title('Absolute Magnitude by Star Type');"
   ]
  },
  {
   "cell_type": "markdown",
   "id": "9c417eef-8c9a-4d68-a0f7-2b87b8e6225f",
   "metadata": {},
   "source": [
    "Absolute magnitude is by convention the magnitude of a star if it were to be located at a distance of 10 parsecs away from us. It typically runs from -20 to +20, with a decrease in value denoting a brighter object. For reference, the sun has an absolute magnitude of +4.83.\n",
    "\n",
    "The absolute magnitude $M_v$ is given by $M_v=m+5-5 \\cdot log_{10}(distance)$ or by its relation to the luminosity of another star (in this case, the sun), $\\frac{L_1}{L_2}=2.512^{M_{v,1}-M_{v,2}}$. Absolute magnitude is different from luminosity in that luminosity is independent of distance.\n",
    "\n",
    "This graph looks similar to the luminosity graph above since they are both measurements of brightness, except for the clear distinction of absolute magnitude between super giants and hyper giants."
   ]
  },
  {
   "cell_type": "code",
   "execution_count": 14,
   "id": "ed567f7c-9a17-40bd-b0fa-f1e0137f5e1e",
   "metadata": {},
   "outputs": [
    {
     "data": {
      "text/html": [
       "<div>\n",
       "<style scoped>\n",
       "    .dataframe tbody tr th:only-of-type {\n",
       "        vertical-align: middle;\n",
       "    }\n",
       "\n",
       "    .dataframe tbody tr th {\n",
       "        vertical-align: top;\n",
       "    }\n",
       "\n",
       "    .dataframe thead th {\n",
       "        text-align: right;\n",
       "    }\n",
       "</style>\n",
       "<table border=\"1\" class=\"dataframe\">\n",
       "  <thead>\n",
       "    <tr style=\"text-align: right;\">\n",
       "      <th></th>\n",
       "      <th>count</th>\n",
       "      <th>mean</th>\n",
       "      <th>std</th>\n",
       "      <th>min</th>\n",
       "      <th>25%</th>\n",
       "      <th>50%</th>\n",
       "      <th>75%</th>\n",
       "      <th>max</th>\n",
       "    </tr>\n",
       "    <tr>\n",
       "      <th>Star type</th>\n",
       "      <th></th>\n",
       "      <th></th>\n",
       "      <th></th>\n",
       "      <th></th>\n",
       "      <th></th>\n",
       "      <th></th>\n",
       "      <th></th>\n",
       "      <th></th>\n",
       "    </tr>\n",
       "  </thead>\n",
       "  <tbody>\n",
       "    <tr>\n",
       "      <th>0</th>\n",
       "      <td>40.0</td>\n",
       "      <td>0.110015</td>\n",
       "      <td>0.025783</td>\n",
       "      <td>0.0570</td>\n",
       "      <td>0.093150</td>\n",
       "      <td>0.1060</td>\n",
       "      <td>0.120250</td>\n",
       "      <td>0.190</td>\n",
       "    </tr>\n",
       "    <tr>\n",
       "      <th>1</th>\n",
       "      <td>40.0</td>\n",
       "      <td>0.348145</td>\n",
       "      <td>0.154453</td>\n",
       "      <td>0.0980</td>\n",
       "      <td>0.240000</td>\n",
       "      <td>0.3380</td>\n",
       "      <td>0.409750</td>\n",
       "      <td>0.730</td>\n",
       "    </tr>\n",
       "    <tr>\n",
       "      <th>2</th>\n",
       "      <td>40.0</td>\n",
       "      <td>0.010728</td>\n",
       "      <td>0.001725</td>\n",
       "      <td>0.0084</td>\n",
       "      <td>0.009305</td>\n",
       "      <td>0.0102</td>\n",
       "      <td>0.012025</td>\n",
       "      <td>0.015</td>\n",
       "    </tr>\n",
       "    <tr>\n",
       "      <th>3</th>\n",
       "      <td>40.0</td>\n",
       "      <td>4.430300</td>\n",
       "      <td>2.801390</td>\n",
       "      <td>0.7950</td>\n",
       "      <td>1.287500</td>\n",
       "      <td>5.7125</td>\n",
       "      <td>6.367500</td>\n",
       "      <td>10.600</td>\n",
       "    </tr>\n",
       "    <tr>\n",
       "      <th>4</th>\n",
       "      <td>40.0</td>\n",
       "      <td>51.150000</td>\n",
       "      <td>27.656826</td>\n",
       "      <td>12.0000</td>\n",
       "      <td>25.750000</td>\n",
       "      <td>43.5000</td>\n",
       "      <td>80.250000</td>\n",
       "      <td>98.000</td>\n",
       "    </tr>\n",
       "    <tr>\n",
       "      <th>5</th>\n",
       "      <td>40.0</td>\n",
       "      <td>1366.897500</td>\n",
       "      <td>255.561357</td>\n",
       "      <td>708.9000</td>\n",
       "      <td>1193.000000</td>\n",
       "      <td>1352.5000</td>\n",
       "      <td>1525.000000</td>\n",
       "      <td>1948.500</td>\n",
       "    </tr>\n",
       "  </tbody>\n",
       "</table>\n",
       "</div>"
      ],
      "text/plain": [
       "           count         mean         std       min          25%        50%  \\\n",
       "Star type                                                                     \n",
       "0           40.0     0.110015    0.025783    0.0570     0.093150     0.1060   \n",
       "1           40.0     0.348145    0.154453    0.0980     0.240000     0.3380   \n",
       "2           40.0     0.010728    0.001725    0.0084     0.009305     0.0102   \n",
       "3           40.0     4.430300    2.801390    0.7950     1.287500     5.7125   \n",
       "4           40.0    51.150000   27.656826   12.0000    25.750000    43.5000   \n",
       "5           40.0  1366.897500  255.561357  708.9000  1193.000000  1352.5000   \n",
       "\n",
       "                   75%       max  \n",
       "Star type                         \n",
       "0             0.120250     0.190  \n",
       "1             0.409750     0.730  \n",
       "2             0.012025     0.015  \n",
       "3             6.367500    10.600  \n",
       "4            80.250000    98.000  \n",
       "5          1525.000000  1948.500  "
      ]
     },
     "execution_count": 14,
     "metadata": {},
     "output_type": "execute_result"
    }
   ],
   "source": [
    "df.groupby('Star type')['Radius(R/Ro)'].describe()"
   ]
  },
  {
   "cell_type": "code",
   "execution_count": 15,
   "id": "7f578afa-3614-41b3-a788-aa40359b1393",
   "metadata": {},
   "outputs": [
    {
     "data": {
      "image/png": "[encoded data removed]",
      "text/plain": [
       "<Figure size 720x504 with 1 Axes>"
      ]
     },
     "metadata": {
      "needs_background": "light"
     },
     "output_type": "display_data"
    }
   ],
   "source": [
    "plt.subplots(figsize=(10,7))\n",
    "ra=sns.boxplot(x='Star type', y='Radius(R/Ro)', data=df, showmeans=True)\n",
    "ra.set(yscale='log')\n",
    "ra.set_xticklabels(labels)\n",
    "ra.set_title('Radius by Star Type');"
   ]
  },
  {
   "cell_type": "markdown",
   "id": "d045be19-0955-4fbe-b4f5-73407c99106f",
   "metadata": {},
   "source": [
    "Radius is divided by the average radius of the sun: $R_o = 6.9551 \\cdot 10^8 m$. Radii should range between 10e-4 and 10e6. \n",
    "\n",
    "White dwarfs have the smallest average radii as expected, since they are supported by degenerate pressure which allows their radii to decrease if matter increases. Main sequence stars consist of a larger range of radii (about 1 to 10 times the size of the Sun)."
   ]
  },
  {
   "cell_type": "code",
   "execution_count": 16,
   "id": "afd19ccd-ae97-454d-9662-141e03a8a8b0",
   "metadata": {},
   "outputs": [
    {
     "data": {
      "text/html": [
       "<div>\n",
       "<style scoped>\n",
       "    .dataframe tbody tr th:only-of-type {\n",
       "        vertical-align: middle;\n",
       "    }\n",
       "\n",
       "    .dataframe tbody tr th {\n",
       "        vertical-align: top;\n",
       "    }\n",
       "\n",
       "    .dataframe thead th {\n",
       "        text-align: right;\n",
       "    }\n",
       "</style>\n",
       "<table border=\"1\" class=\"dataframe\">\n",
       "  <thead>\n",
       "    <tr style=\"text-align: right;\">\n",
       "      <th></th>\n",
       "      <th>count</th>\n",
       "      <th>mean</th>\n",
       "      <th>std</th>\n",
       "      <th>min</th>\n",
       "      <th>25%</th>\n",
       "      <th>50%</th>\n",
       "      <th>75%</th>\n",
       "      <th>max</th>\n",
       "    </tr>\n",
       "    <tr>\n",
       "      <th>Star type</th>\n",
       "      <th></th>\n",
       "      <th></th>\n",
       "      <th></th>\n",
       "      <th></th>\n",
       "      <th></th>\n",
       "      <th></th>\n",
       "      <th></th>\n",
       "      <th></th>\n",
       "    </tr>\n",
       "  </thead>\n",
       "  <tbody>\n",
       "    <tr>\n",
       "      <th>0</th>\n",
       "      <td>40.0</td>\n",
       "      <td>2997.950</td>\n",
       "      <td>332.276295</td>\n",
       "      <td>1939.0</td>\n",
       "      <td>2812.75</td>\n",
       "      <td>2935.0</td>\n",
       "      <td>3242.50</td>\n",
       "      <td>3531.0</td>\n",
       "    </tr>\n",
       "    <tr>\n",
       "      <th>1</th>\n",
       "      <td>40.0</td>\n",
       "      <td>3283.825</td>\n",
       "      <td>269.637258</td>\n",
       "      <td>2621.0</td>\n",
       "      <td>3132.75</td>\n",
       "      <td>3314.0</td>\n",
       "      <td>3527.50</td>\n",
       "      <td>3692.0</td>\n",
       "    </tr>\n",
       "    <tr>\n",
       "      <th>2</th>\n",
       "      <td>40.0</td>\n",
       "      <td>13931.450</td>\n",
       "      <td>4957.655189</td>\n",
       "      <td>7100.0</td>\n",
       "      <td>9488.75</td>\n",
       "      <td>13380.0</td>\n",
       "      <td>17380.00</td>\n",
       "      <td>25000.0</td>\n",
       "    </tr>\n",
       "    <tr>\n",
       "      <th>3</th>\n",
       "      <td>40.0</td>\n",
       "      <td>16018.000</td>\n",
       "      <td>10661.234972</td>\n",
       "      <td>4077.0</td>\n",
       "      <td>7479.25</td>\n",
       "      <td>12560.5</td>\n",
       "      <td>23030.00</td>\n",
       "      <td>39000.0</td>\n",
       "    </tr>\n",
       "    <tr>\n",
       "      <th>4</th>\n",
       "      <td>40.0</td>\n",
       "      <td>15347.850</td>\n",
       "      <td>10086.784628</td>\n",
       "      <td>3008.0</td>\n",
       "      <td>6899.50</td>\n",
       "      <td>12821.0</td>\n",
       "      <td>23181.25</td>\n",
       "      <td>40000.0</td>\n",
       "    </tr>\n",
       "    <tr>\n",
       "      <th>5</th>\n",
       "      <td>40.0</td>\n",
       "      <td>11405.700</td>\n",
       "      <td>11816.991886</td>\n",
       "      <td>3399.0</td>\n",
       "      <td>3603.75</td>\n",
       "      <td>3766.0</td>\n",
       "      <td>18976.00</td>\n",
       "      <td>38940.0</td>\n",
       "    </tr>\n",
       "  </tbody>\n",
       "</table>\n",
       "</div>"
      ],
      "text/plain": [
       "           count       mean           std     min      25%      50%       75%  \\\n",
       "Star type                                                                       \n",
       "0           40.0   2997.950    332.276295  1939.0  2812.75   2935.0   3242.50   \n",
       "1           40.0   3283.825    269.637258  2621.0  3132.75   3314.0   3527.50   \n",
       "2           40.0  13931.450   4957.655189  7100.0  9488.75  13380.0  17380.00   \n",
       "3           40.0  16018.000  10661.234972  4077.0  7479.25  12560.5  23030.00   \n",
       "4           40.0  15347.850  10086.784628  3008.0  6899.50  12821.0  23181.25   \n",
       "5           40.0  11405.700  11816.991886  3399.0  3603.75   3766.0  18976.00   \n",
       "\n",
       "               max  \n",
       "Star type           \n",
       "0           3531.0  \n",
       "1           3692.0  \n",
       "2          25000.0  \n",
       "3          39000.0  \n",
       "4          40000.0  \n",
       "5          38940.0  "
      ]
     },
     "execution_count": 16,
     "metadata": {},
     "output_type": "execute_result"
    }
   ],
   "source": [
    "df.groupby('Star type')['Temperature (K)'].describe()"
   ]
  },
  {
   "cell_type": "code",
   "execution_count": 17,
   "id": "398efad3-0862-4472-85b2-97c1c2a34aeb",
   "metadata": {},
   "outputs": [
    {
     "data": {
      "image/png": "[encoded data removed]",
      "text/plain": [
       "<Figure size 720x504 with 1 Axes>"
      ]
     },
     "metadata": {
      "needs_background": "light"
     },
     "output_type": "display_data"
    }
   ],
   "source": [
    "plt.subplots(figsize=(10,7))\n",
    "temp=sns.boxplot(x='Star type', y='Temperature (K)', data=df, showmeans=True)\n",
    "temp.set(yscale='log')\n",
    "temp.set_xticklabels(labels)\n",
    "temp.set_title('Temperature by Star Type');\n"
   ]
  },
  {
   "cell_type": "markdown",
   "id": "214a91cb-22eb-4d69-82a5-afcbace11739",
   "metadata": {},
   "source": [
    "Temperature refers to the effective (surface) temperature of a star in Kelvin.\n",
    "\n",
    "Red and brown dwarfs have the lowest effective temperatures as expected because they are long lived stars that rely on very slow fusion for fuel. Although white dwarfs are remnants of stars that have burnt up all the hydrogen fuel, they radiate heat from the leftover thermal energy from when it was a larger star. They are also smaller, so energy is transported from the core of the star to the surface much easily than bigger stars. \n",
    "\n",
    "Similarly, hyper giants may have a high core temperature, but may not effective in transporting this thermal energy depending on the adiabatic temperature gradient (https://websites.pmc.ucsc.edu/~glatz/astr_112/lectures/notes12.pdf)."
   ]
  },
  {
   "cell_type": "code",
   "execution_count": 18,
   "id": "ad9ba644-a936-4821-8f34-7452c9657dd2",
   "metadata": {},
   "outputs": [
    {
     "data": {
      "text/plain": [
       "M    111\n",
       "B     46\n",
       "O     40\n",
       "A     19\n",
       "F     17\n",
       "K      6\n",
       "G      1\n",
       "Name: Spectral Class, dtype: int64"
      ]
     },
     "execution_count": 18,
     "metadata": {},
     "output_type": "execute_result"
    }
   ],
   "source": [
    "df['Spectral Class'].value_counts()"
   ]
  },
  {
   "cell_type": "markdown",
   "id": "8f3481fa-0f02-41a1-8004-3ae81618f470",
   "metadata": {},
   "source": [
    "Spectral class is classified under the Morgan-Keenan (MK) system from hottest to coolest: O, B, A, F, G, K, and M. Wien's displacement law gives the relation between effective temperature and wavelength (related to spectral class): $\\lambda_{max}=\\frac{b}{T}$."
   ]
  },
  {
   "cell_type": "code",
   "execution_count": 19,
   "id": "ac9116ac-57a9-4771-85fe-a5941845729e",
   "metadata": {},
   "outputs": [
    {
     "data": {
      "text/plain": [
       "Red                   112\n",
       "Blue                   55\n",
       "Blue-white             26\n",
       "Blue White             10\n",
       "yellow-white            8\n",
       "White                   7\n",
       "Yellowish White         3\n",
       "white                   3\n",
       "Blue white              3\n",
       "yellowish               2\n",
       "Orange                  2\n",
       "Whitish                 2\n",
       "Blue                    1\n",
       "Blue white              1\n",
       "Blue-White              1\n",
       "Orange-Red              1\n",
       "White-Yellow            1\n",
       "Pale yellow orange      1\n",
       "Yellowish               1\n",
       "Name: Star color, dtype: int64"
      ]
     },
     "execution_count": 19,
     "metadata": {},
     "output_type": "execute_result"
    }
   ],
   "source": [
    "df['Star color'].value_counts()"
   ]
  },
  {
   "cell_type": "markdown",
   "id": "8303416b-a332-4de9-8aa6-1b7607eea3f5",
   "metadata": {},
   "source": [
    "We replace the star colors with more consistent values, but this column may not be necessary if we know the spectral class of a star."
   ]
  },
  {
   "cell_type": "code",
   "execution_count": 20,
   "id": "73cd06fa-a823-4876-8ce6-da4974ef0291",
   "metadata": {},
   "outputs": [
    {
     "data": {
      "text/plain": [
       "Red                   112\n",
       "Blue                   56\n",
       "Blue-white             41\n",
       "White                  12\n",
       "Yellow-white           12\n",
       "Yellow                  3\n",
       "Orange                  2\n",
       "Orange-Red              1\n",
       "Pale yellow orange      1\n",
       "Name: Star color, dtype: int64"
      ]
     },
     "execution_count": 20,
     "metadata": {},
     "output_type": "execute_result"
    }
   ],
   "source": [
    "color_dict={'Blue White':'Blue-white', 'Blue white':'Blue-white', 'Blue white ':'Blue-white', 'Blue-White':'Blue-white', \\\n",
    "            'yellow-white':'Yellow-white', 'Yellowish White':'Yellow-white', 'yellowish':'Yellow', 'White-Yellow':'Yellow-white', 'Yellowish':'Yellow',\\\n",
    "            'white':'White', 'Whitish':'White', 'Blue ':'Blue'}\n",
    "\n",
    "df['Star color'].replace(color_dict, inplace=True)\n",
    "df['Star color'].value_counts()"
   ]
  },
  {
   "cell_type": "code",
   "execution_count": 21,
   "id": "7ac9cafe-beb1-4ac1-90a7-dec71ebf8752",
   "metadata": {},
   "outputs": [
    {
     "data": {
      "image/png": "[encoded data removed]",
      "text/plain": [
       "<Figure size 720x576 with 2 Axes>"
      ]
     },
     "metadata": {
      "needs_background": "light"
     },
     "output_type": "display_data"
    }
   ],
   "source": [
    "fig, ax = plt.subplots(figsize=(10,8))\n",
    "sns.heatmap(round(df.corr(), 2), annot=True)\n",
    "ax.set_title('Correlation Heatmap for Star Features with Pearson Coefficients');\n"
   ]
  },
  {
   "cell_type": "markdown",
   "id": "1c912eec-788a-44f4-8dcf-79c5d6bdd3e0",
   "metadata": {},
   "source": [
    "Absolute magnitude and luminosity are two different measures of brightness and are negatively correlated, as a negative absolute magnitude value corresponds to a higher brightness (r=-0.69). Absolute magnitude and radius is also negatively correlated (r=-0.61). Luminosity, temperature, and radius are bound together by the Stefan-Boltzmann equation as stated above, resulting in a positive correlation (r=0.53) between luminosity and radius, and a slightly lower positive correlation (r=0.39) between luminosity and temperature. "
   ]
  },
  {
   "cell_type": "markdown",
   "id": "e9cf2b49-d667-4123-8a6c-9e3ffc51f21f",
   "metadata": {},
   "source": [
    "![image](https://enigmar.net/wp-content/uploads/2021/03/Hertzsprung-Russel-Diagram.jpg)"
   ]
  },
  {
   "cell_type": "markdown",
   "id": "48af19ec-587c-458e-9bb5-b58bafe9955f",
   "metadata": {},
   "source": [
    "The Hertzsprung-Russell diagram will often contain a scatter plot of stars, with the absolute magnitude or luminosity on the y-axis, and the spectral type or surface temperature on the x-axis. We attempt to recreate the above plot below: "
   ]
  },
  {
   "cell_type": "code",
   "execution_count": 22,
   "id": "469d03ea-f2f2-48e1-8621-202244cf4ec5",
   "metadata": {},
   "outputs": [
    {
     "data": {
      "image/png": "[encoded data removed]",
      "text/plain": [
       "<Figure size 413.625x360 with 1 Axes>"
      ]
     },
     "metadata": {
      "needs_background": "light"
     },
     "output_type": "display_data"
    }
   ],
   "source": [
    "splot=sns.relplot(x='Temperature (K)', y='Luminosity(L/Lo)', hue='Star type', data=df)\n",
    "splot.set(yscale='log')\n",
    "splot._legend.remove()\n",
    "plt.xlim(reversed(plt.xlim()))\n",
    "plt.legend(labels=['Red Dwarf', 'Brown Dwarf', 'White Dwarf', 'Main Sequence','Super Giants', 'Hyper Giants'], bbox_to_anchor=(1, 1));"
   ]
  }
 ],
 "metadata": {
  "kernelspec": {
   "display_name": "Python 3 (ipykernel)",
   "language": "python",
   "name": "python3"
  },
  "language_info": {
   "codemirror_mode": {
    "name": "ipython",
    "version": 3
   },
   "file_extension": ".py",
   "mimetype": "text/x-python",
   "name": "python",
   "nbconvert_exporter": "python",
   "pygments_lexer": "ipython3",
   "version": "3.8.12"
  }
 },
 "nbformat": 4,
 "nbformat_minor": 5
}
